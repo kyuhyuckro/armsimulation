{
 "cells": [
  {
   "cell_type": "code",
   "execution_count": 1,
   "id": "be6b1bc3",
   "metadata": {},
   "outputs": [],
   "source": [
    "import numpy as np\n",
    "import pandas as pd\n",
    "from keras.models import Sequential\n",
    "from keras.models import load_model\n",
    "from keras.layers import Dense\n",
    "from keras.callbacks import EarlyStopping\n",
    "from sklearn.model_selection import train_test_split\n",
    "import os"
   ]
  },
  {
   "cell_type": "code",
   "execution_count": 2,
   "id": "b5a2edfa",
   "metadata": {},
   "outputs": [],
   "source": [
    "merged_data=pd.read_csv('merged_data.csv')"
   ]
  },
  {
   "cell_type": "code",
   "execution_count": 3,
   "id": "59e82e17",
   "metadata": {},
   "outputs": [],
   "source": [
    "X=merged_data.iloc[:,1:13]"
   ]
  },
  {
   "cell_type": "code",
   "execution_count": 4,
   "id": "b3d77894",
   "metadata": {},
   "outputs": [],
   "source": [
    "y=merged_data.iloc[:,13:]"
   ]
  },
  {
   "cell_type": "code",
   "execution_count": 5,
   "id": "ae2f35c4",
   "metadata": {},
   "outputs": [
    {
     "name": "stdout",
     "output_type": "stream",
     "text": [
      "Model: \"sequential\"\n",
      "_________________________________________________________________\n",
      " Layer (type)                Output Shape              Param #   \n",
      "=================================================================\n",
      " dense (Dense)               (None, 256)               3328      \n",
      "                                                                 \n",
      " dense_1 (Dense)             (None, 128)               32896     \n",
      "                                                                 \n",
      " dense_2 (Dense)             (None, 10)                1290      \n",
      "                                                                 \n",
      " dense_3 (Dense)             (None, 5)                 55        \n",
      "                                                                 \n",
      "=================================================================\n",
      "Total params: 37,569\n",
      "Trainable params: 37,569\n",
      "Non-trainable params: 0\n",
      "_________________________________________________________________\n"
     ]
    }
   ],
   "source": [
    "model = Sequential()\n",
    "model.add(Dense(256, input_dim=12, kernel_initializer='normal', activation='relu'))\n",
    "model.add(Dense(128, kernel_initializer='normal', activation='relu'))\n",
    "model.add(Dense(10, kernel_initializer='normal', activation='relu'))\n",
    "model.add(Dense(5, kernel_initializer='normal'))\n",
    "model.compile(loss='mean_squared_error', optimizer='adam')\n",
    "\n",
    "x_train, x_test, y_train, y_test = train_test_split(X, y, test_size=0.2)\n",
    "model.summary()"
   ]
  },
  {
   "cell_type": "code",
   "execution_count": 6,
   "id": "cc8faa91",
   "metadata": {},
   "outputs": [
    {
     "name": "stdout",
     "output_type": "stream",
     "text": [
      "Epoch 1/1000\n",
      "4/4 - 0s - loss: 0.0048 - val_loss: 0.0044 - 413ms/epoch - 103ms/step\n",
      "Epoch 2/1000\n",
      "4/4 - 0s - loss: 0.0043 - val_loss: 0.0038 - 20ms/epoch - 5ms/step\n",
      "Epoch 3/1000\n",
      "4/4 - 0s - loss: 0.0040 - val_loss: 0.0034 - 21ms/epoch - 5ms/step\n",
      "Epoch 4/1000\n",
      "4/4 - 0s - loss: 0.0035 - val_loss: 0.0030 - 21ms/epoch - 5ms/step\n",
      "Epoch 5/1000\n",
      "4/4 - 0s - loss: 0.0032 - val_loss: 0.0026 - 22ms/epoch - 6ms/step\n",
      "Epoch 6/1000\n",
      "4/4 - 0s - loss: 0.0028 - val_loss: 0.0021 - 20ms/epoch - 5ms/step\n",
      "Epoch 7/1000\n",
      "4/4 - 0s - loss: 0.0025 - val_loss: 0.0020 - 21ms/epoch - 5ms/step\n",
      "Epoch 8/1000\n",
      "4/4 - 0s - loss: 0.0024 - val_loss: 0.0018 - 20ms/epoch - 5ms/step\n",
      "Epoch 9/1000\n",
      "4/4 - 0s - loss: 0.0021 - val_loss: 0.0015 - 20ms/epoch - 5ms/step\n",
      "Epoch 10/1000\n",
      "4/4 - 0s - loss: 0.0021 - val_loss: 0.0015 - 20ms/epoch - 5ms/step\n",
      "Epoch 11/1000\n",
      "4/4 - 0s - loss: 0.0019 - val_loss: 0.0014 - 20ms/epoch - 5ms/step\n",
      "Epoch 12/1000\n",
      "4/4 - 0s - loss: 0.0018 - val_loss: 0.0012 - 22ms/epoch - 6ms/step\n",
      "Epoch 13/1000\n",
      "4/4 - 0s - loss: 0.0017 - val_loss: 0.0012 - 22ms/epoch - 5ms/step\n",
      "Epoch 14/1000\n",
      "4/4 - 0s - loss: 0.0016 - val_loss: 0.0012 - 20ms/epoch - 5ms/step\n",
      "Epoch 15/1000\n",
      "4/4 - 0s - loss: 0.0015 - val_loss: 0.0011 - 20ms/epoch - 5ms/step\n",
      "Epoch 16/1000\n",
      "4/4 - 0s - loss: 0.0015 - val_loss: 0.0010 - 20ms/epoch - 5ms/step\n",
      "Epoch 17/1000\n",
      "4/4 - 0s - loss: 0.0014 - val_loss: 0.0010 - 21ms/epoch - 5ms/step\n",
      "Epoch 18/1000\n",
      "4/4 - 0s - loss: 0.0014 - val_loss: 0.0010 - 21ms/epoch - 5ms/step\n",
      "Epoch 19/1000\n",
      "4/4 - 0s - loss: 0.0014 - val_loss: 9.5693e-04 - 20ms/epoch - 5ms/step\n",
      "Epoch 20/1000\n",
      "4/4 - 0s - loss: 0.0014 - val_loss: 9.8157e-04 - 20ms/epoch - 5ms/step\n",
      "Epoch 21/1000\n",
      "4/4 - 0s - loss: 0.0013 - val_loss: 9.8461e-04 - 20ms/epoch - 5ms/step\n",
      "Epoch 22/1000\n",
      "4/4 - 0s - loss: 0.0012 - val_loss: 9.3229e-04 - 21ms/epoch - 5ms/step\n",
      "Epoch 23/1000\n",
      "4/4 - 0s - loss: 0.0012 - val_loss: 8.9605e-04 - 21ms/epoch - 5ms/step\n",
      "Epoch 24/1000\n",
      "4/4 - 0s - loss: 0.0011 - val_loss: 8.2615e-04 - 20ms/epoch - 5ms/step\n",
      "Epoch 25/1000\n",
      "4/4 - 0s - loss: 0.0011 - val_loss: 8.7946e-04 - 20ms/epoch - 5ms/step\n",
      "Epoch 26/1000\n",
      "4/4 - 0s - loss: 0.0011 - val_loss: 8.1858e-04 - 21ms/epoch - 5ms/step\n",
      "Epoch 27/1000\n",
      "4/4 - 0s - loss: 0.0011 - val_loss: 7.9962e-04 - 23ms/epoch - 6ms/step\n",
      "Epoch 28/1000\n",
      "4/4 - 0s - loss: 0.0011 - val_loss: 8.0701e-04 - 19ms/epoch - 5ms/step\n",
      "Epoch 29/1000\n",
      "4/4 - 0s - loss: 0.0010 - val_loss: 7.9635e-04 - 20ms/epoch - 5ms/step\n",
      "Epoch 30/1000\n",
      "4/4 - 0s - loss: 9.8708e-04 - val_loss: 7.6370e-04 - 20ms/epoch - 5ms/step\n",
      "Epoch 31/1000\n",
      "4/4 - 0s - loss: 9.7110e-04 - val_loss: 7.7158e-04 - 20ms/epoch - 5ms/step\n",
      "Epoch 32/1000\n",
      "4/4 - 0s - loss: 9.6445e-04 - val_loss: 7.6392e-04 - 20ms/epoch - 5ms/step\n",
      "Epoch 33/1000\n",
      "4/4 - 0s - loss: 9.1231e-04 - val_loss: 7.3723e-04 - 20ms/epoch - 5ms/step\n",
      "Epoch 34/1000\n",
      "4/4 - 0s - loss: 8.9041e-04 - val_loss: 7.7441e-04 - 21ms/epoch - 5ms/step\n",
      "Epoch 35/1000\n",
      "4/4 - 0s - loss: 9.0626e-04 - val_loss: 7.2243e-04 - 20ms/epoch - 5ms/step\n",
      "Epoch 36/1000\n",
      "4/4 - 0s - loss: 8.5899e-04 - val_loss: 7.3064e-04 - 22ms/epoch - 6ms/step\n",
      "Epoch 37/1000\n",
      "4/4 - 0s - loss: 8.4693e-04 - val_loss: 7.0747e-04 - 20ms/epoch - 5ms/step\n",
      "Epoch 38/1000\n",
      "4/4 - 0s - loss: 9.0741e-04 - val_loss: 7.1128e-04 - 21ms/epoch - 5ms/step\n",
      "Epoch 39/1000\n",
      "4/4 - 0s - loss: 8.7443e-04 - val_loss: 8.3226e-04 - 20ms/epoch - 5ms/step\n",
      "Epoch 40/1000\n",
      "4/4 - 0s - loss: 8.8950e-04 - val_loss: 7.0819e-04 - 20ms/epoch - 5ms/step\n",
      "Epoch 41/1000\n",
      "4/4 - 0s - loss: 8.5126e-04 - val_loss: 7.6250e-04 - 21ms/epoch - 5ms/step\n",
      "Epoch 42/1000\n",
      "4/4 - 0s - loss: 8.3751e-04 - val_loss: 7.3315e-04 - 20ms/epoch - 5ms/step\n",
      "Epoch 43/1000\n",
      "4/4 - 0s - loss: 8.0455e-04 - val_loss: 7.2955e-04 - 20ms/epoch - 5ms/step\n",
      "Epoch 44/1000\n",
      "4/4 - 0s - loss: 7.7061e-04 - val_loss: 6.8671e-04 - 21ms/epoch - 5ms/step\n",
      "Epoch 45/1000\n",
      "4/4 - 0s - loss: 7.3046e-04 - val_loss: 6.5903e-04 - 22ms/epoch - 6ms/step\n",
      "Epoch 46/1000\n",
      "4/4 - 0s - loss: 7.5476e-04 - val_loss: 6.9330e-04 - 21ms/epoch - 5ms/step\n",
      "Epoch 47/1000\n",
      "4/4 - 0s - loss: 7.4267e-04 - val_loss: 6.9024e-04 - 19ms/epoch - 5ms/step\n",
      "Epoch 48/1000\n",
      "4/4 - 0s - loss: 7.3779e-04 - val_loss: 6.8686e-04 - 22ms/epoch - 5ms/step\n",
      "Epoch 49/1000\n",
      "4/4 - 0s - loss: 7.5233e-04 - val_loss: 6.7592e-04 - 22ms/epoch - 5ms/step\n",
      "Epoch 50/1000\n",
      "4/4 - 0s - loss: 8.1193e-04 - val_loss: 7.3511e-04 - 20ms/epoch - 5ms/step\n",
      "Epoch 51/1000\n",
      "4/4 - 0s - loss: 8.5634e-04 - val_loss: 6.5216e-04 - 22ms/epoch - 5ms/step\n",
      "Epoch 52/1000\n",
      "4/4 - 0s - loss: 8.7623e-04 - val_loss: 6.3380e-04 - 21ms/epoch - 5ms/step\n",
      "Epoch 53/1000\n",
      "4/4 - 0s - loss: 7.9039e-04 - val_loss: 6.6294e-04 - 19ms/epoch - 5ms/step\n",
      "Epoch 54/1000\n",
      "4/4 - 0s - loss: 7.0875e-04 - val_loss: 6.5962e-04 - 21ms/epoch - 5ms/step\n",
      "Epoch 55/1000\n",
      "4/4 - 0s - loss: 7.0221e-04 - val_loss: 6.5667e-04 - 20ms/epoch - 5ms/step\n",
      "Epoch 56/1000\n",
      "4/4 - 0s - loss: 6.7667e-04 - val_loss: 6.2013e-04 - 22ms/epoch - 5ms/step\n",
      "Epoch 57/1000\n",
      "4/4 - 0s - loss: 6.5895e-04 - val_loss: 6.2892e-04 - 22ms/epoch - 6ms/step\n",
      "Epoch 58/1000\n",
      "4/4 - 0s - loss: 6.3523e-04 - val_loss: 6.4187e-04 - 22ms/epoch - 6ms/step\n",
      "Epoch 59/1000\n",
      "4/4 - 0s - loss: 6.2793e-04 - val_loss: 6.3087e-04 - 22ms/epoch - 5ms/step\n",
      "Epoch 60/1000\n",
      "4/4 - 0s - loss: 6.3264e-04 - val_loss: 6.2059e-04 - 22ms/epoch - 5ms/step\n",
      "Epoch 61/1000\n",
      "4/4 - 0s - loss: 6.4197e-04 - val_loss: 6.6074e-04 - 21ms/epoch - 5ms/step\n",
      "Epoch 62/1000\n",
      "4/4 - 0s - loss: 6.5390e-04 - val_loss: 6.2587e-04 - 21ms/epoch - 5ms/step\n",
      "Epoch 63/1000\n",
      "4/4 - 0s - loss: 6.6260e-04 - val_loss: 6.5256e-04 - 20ms/epoch - 5ms/step\n",
      "Epoch 64/1000\n",
      "4/4 - 0s - loss: 6.7454e-04 - val_loss: 6.1349e-04 - 20ms/epoch - 5ms/step\n",
      "Epoch 65/1000\n",
      "4/4 - 0s - loss: 6.3911e-04 - val_loss: 6.0008e-04 - 20ms/epoch - 5ms/step\n",
      "Epoch 66/1000\n",
      "4/4 - 0s - loss: 6.2196e-04 - val_loss: 6.0070e-04 - 20ms/epoch - 5ms/step\n",
      "Epoch 67/1000\n",
      "4/4 - 0s - loss: 6.0565e-04 - val_loss: 6.3705e-04 - 21ms/epoch - 5ms/step\n",
      "Epoch 68/1000\n",
      "4/4 - 0s - loss: 6.2410e-04 - val_loss: 6.2207e-04 - 20ms/epoch - 5ms/step\n",
      "Epoch 69/1000\n",
      "4/4 - 0s - loss: 6.4378e-04 - val_loss: 6.0437e-04 - 20ms/epoch - 5ms/step\n",
      "Epoch 70/1000\n",
      "4/4 - 0s - loss: 6.0004e-04 - val_loss: 6.1913e-04 - 19ms/epoch - 5ms/step\n",
      "Epoch 71/1000\n",
      "4/4 - 0s - loss: 6.2320e-04 - val_loss: 6.2973e-04 - 20ms/epoch - 5ms/step\n",
      "Epoch 72/1000\n",
      "4/4 - 0s - loss: 5.8243e-04 - val_loss: 6.5135e-04 - 19ms/epoch - 5ms/step\n",
      "Epoch 73/1000\n",
      "4/4 - 0s - loss: 6.0879e-04 - val_loss: 6.2508e-04 - 19ms/epoch - 5ms/step\n",
      "Epoch 74/1000\n",
      "4/4 - 0s - loss: 5.6541e-04 - val_loss: 6.2574e-04 - 20ms/epoch - 5ms/step\n",
      "Epoch 75/1000\n",
      "4/4 - 0s - loss: 5.6220e-04 - val_loss: 6.0109e-04 - 19ms/epoch - 5ms/step\n",
      "Epoch 76/1000\n",
      "4/4 - 0s - loss: 5.4453e-04 - val_loss: 6.0498e-04 - 20ms/epoch - 5ms/step\n",
      "Epoch 77/1000\n",
      "4/4 - 0s - loss: 5.5283e-04 - val_loss: 6.2136e-04 - 21ms/epoch - 5ms/step\n",
      "Epoch 78/1000\n",
      "4/4 - 0s - loss: 5.1961e-04 - val_loss: 6.0679e-04 - 20ms/epoch - 5ms/step\n",
      "Epoch 79/1000\n",
      "4/4 - 0s - loss: 5.2961e-04 - val_loss: 6.3898e-04 - 20ms/epoch - 5ms/step\n",
      "Epoch 80/1000\n",
      "4/4 - 0s - loss: 5.2419e-04 - val_loss: 6.4397e-04 - 20ms/epoch - 5ms/step\n",
      "Epoch 81/1000\n",
      "4/4 - 0s - loss: 5.0877e-04 - val_loss: 6.1300e-04 - 19ms/epoch - 5ms/step\n",
      "Epoch 82/1000\n",
      "4/4 - 0s - loss: 5.1434e-04 - val_loss: 6.1674e-04 - 21ms/epoch - 5ms/step\n",
      "Epoch 83/1000\n",
      "4/4 - 0s - loss: 4.8581e-04 - val_loss: 6.4220e-04 - 19ms/epoch - 5ms/step\n",
      "Epoch 84/1000\n",
      "4/4 - 0s - loss: 4.8974e-04 - val_loss: 6.3671e-04 - 20ms/epoch - 5ms/step\n",
      "Epoch 85/1000\n",
      "4/4 - 0s - loss: 4.9360e-04 - val_loss: 6.2913e-04 - 20ms/epoch - 5ms/step\n",
      "Epoch 86/1000\n",
      "4/4 - 0s - loss: 4.9981e-04 - val_loss: 6.2677e-04 - 19ms/epoch - 5ms/step\n",
      "Epoch 87/1000\n",
      "4/4 - 0s - loss: 4.8959e-04 - val_loss: 6.6553e-04 - 20ms/epoch - 5ms/step\n",
      "Epoch 88/1000\n",
      "4/4 - 0s - loss: 4.7889e-04 - val_loss: 6.0061e-04 - 24ms/epoch - 6ms/step\n",
      "Epoch 89/1000\n",
      "4/4 - 0s - loss: 4.6821e-04 - val_loss: 6.3315e-04 - 21ms/epoch - 5ms/step\n",
      "Epoch 90/1000\n",
      "4/4 - 0s - loss: 4.4847e-04 - val_loss: 6.2955e-04 - 20ms/epoch - 5ms/step\n",
      "Epoch 91/1000\n",
      "4/4 - 0s - loss: 4.3709e-04 - val_loss: 6.1588e-04 - 21ms/epoch - 5ms/step\n",
      "Epoch 92/1000\n",
      "4/4 - 0s - loss: 4.2962e-04 - val_loss: 6.2068e-04 - 20ms/epoch - 5ms/step\n",
      "Epoch 93/1000\n",
      "4/4 - 0s - loss: 4.3350e-04 - val_loss: 6.3892e-04 - 20ms/epoch - 5ms/step\n",
      "Epoch 94/1000\n",
      "4/4 - 0s - loss: 4.3846e-04 - val_loss: 6.3743e-04 - 20ms/epoch - 5ms/step\n",
      "Epoch 95/1000\n",
      "4/4 - 0s - loss: 4.6610e-04 - val_loss: 6.4460e-04 - 20ms/epoch - 5ms/step\n"
     ]
    },
    {
     "data": {
      "text/plain": [
       "<keras.callbacks.History at 0x276f7e6a100>"
      ]
     },
     "execution_count": 6,
     "metadata": {},
     "output_type": "execute_result"
    }
   ],
   "source": [
    "early_stopping = EarlyStopping(monitor='val_loss', patience=30)\n",
    "model.fit(x_train,y_train, epochs=1000, batch_size=100, verbose=2, validation_data=(x_test, y_test), callbacks=[early_stopping])"
   ]
  },
  {
   "cell_type": "code",
   "execution_count": 7,
   "id": "991e1a3c",
   "metadata": {},
   "outputs": [
    {
     "name": "stdout",
     "output_type": "stream",
     "text": [
      "4/4 [==============================] - 0s 666us/step - loss: 6.4460e-04\n"
     ]
    },
    {
     "data": {
      "text/plain": [
       "0.0006446003681048751"
      ]
     },
     "execution_count": 7,
     "metadata": {},
     "output_type": "execute_result"
    }
   ],
   "source": [
    "model.evaluate(x_test,y_test)"
   ]
  }
 ],
 "metadata": {
  "kernelspec": {
   "display_name": "Python 3.9.7 ('base')",
   "language": "python",
   "name": "python3"
  },
  "language_info": {
   "codemirror_mode": {
    "name": "ipython",
    "version": 3
   },
   "file_extension": ".py",
   "mimetype": "text/x-python",
   "name": "python",
   "nbconvert_exporter": "python",
   "pygments_lexer": "ipython3",
   "version": "3.9.7"
  },
  "vscode": {
   "interpreter": {
    "hash": "ad2bdc8ecc057115af97d19610ffacc2b4e99fae6737bb82f5d7fb13d2f2c186"
   }
  }
 },
 "nbformat": 4,
 "nbformat_minor": 5
}
